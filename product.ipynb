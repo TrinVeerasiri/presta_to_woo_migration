{
 "cells": [
  {
   "cell_type": "markdown",
   "metadata": {},
   "source": [
    "# Product migration from Prestashop to Woocommerce"
   ]
  },
  {
   "cell_type": "markdown",
   "metadata": {},
   "source": [
    "This is the product migration of the book store from Prestashop to Woocommerce format.\n",
    "Woocommerce has a function to import/export product. We will use this advantage by export the form of Woocommerce, merge with other important data then import it back to Woocommerce.\n",
    "\n",
    "*I can't attach the data file here because of privacy."
   ]
  },
  {
   "cell_type": "code",
   "execution_count": 1,
   "metadata": {
    "collapsed": true
   },
   "outputs": [],
   "source": [
    "import pandas as pd\n",
    "import numpy as np"
   ]
  },
  {
   "cell_type": "markdown",
   "metadata": {},
   "source": [
    "Store the database in the folder \"sql_prestashop\"\n",
    "The data here are collected from 2 places. It is Prestashop backend (some information already join) and from the mysql database (other important information that aren't joined yet. I will save file from mysql with a name \"ps_....csv\").\n",
    "- \"presta_product_in_woo_form.xlsx\" is the export product form of Woocommerce. Filling some information such as product name an id in Excel first. Use this dataframe to merge other information then import back to Woocommerce.\n",
    "- \"ps_product_lang.csv\" is the Prestashop database, store the description and short description field.\n",
    "- \"ps_image.csv\" is the Prestashop database, store image links."
   ]
  },
  {
   "cell_type": "code",
   "execution_count": 2,
   "metadata": {
    "collapsed": true
   },
   "outputs": [],
   "source": [
    "df_woocommerce = pd.read_excel('sql_prestashop/presta_product_in_woo_form.xlsx')\n",
    "df_description = pd.read_csv('sql_prestashop/ps_product_lang.csv', index_col=False)\n",
    "df_img_link = pd.read_csv('sql_prestashop/ps_image.csv', index_col=False)"
   ]
  },
  {
   "cell_type": "markdown",
   "metadata": {},
   "source": [
    "# Description and Short description"
   ]
  },
  {
   "cell_type": "markdown",
   "metadata": {},
   "source": [
    "The old Prestashop has 2 languages, Thai and English. We interest only description in Thai language ('2')."
   ]
  },
  {
   "cell_type": "code",
   "execution_count": 3,
   "metadata": {
    "collapsed": true
   },
   "outputs": [],
   "source": [
    "df_description = df_description[df_description['id_lang'] == 2]"
   ]
  },
  {
   "cell_type": "markdown",
   "metadata": {},
   "source": [
    "Change the column name from 'id_product' to 'ID' in order to merge."
   ]
  },
  {
   "cell_type": "code",
   "execution_count": 4,
   "metadata": {
    "collapsed": true
   },
   "outputs": [],
   "source": [
    "df_description = df_description.rename(columns = {'id_product':'ID'})\n",
    "df_img_link = df_img_link.rename(columns = {'id_product':'ID'})"
   ]
  },
  {
   "cell_type": "markdown",
   "metadata": {},
   "source": [
    "We pick only interest column from df_description. There are 'ID', 'description', 'description_short'. Merge df_woocommerce with df_description by ID.\n",
    "Then fill new merge column in the df_woocommerce 'Description' and 'Short description' column."
   ]
  },
  {
   "cell_type": "code",
   "execution_count": 5,
   "metadata": {
    "collapsed": true
   },
   "outputs": [],
   "source": [
    "result = pd.merge(df_woocommerce, df_description[['ID', 'description', 'description_short']], how='left', on='ID')\n",
    "\n",
    "#Fill new merge column to df_woocommerce 'description' and 'Short description' column.\n",
    "result['Description'] = result['description']\n",
    "result['Short description'] = result['description_short']"
   ]
  },
  {
   "cell_type": "markdown",
   "metadata": {},
   "source": [
    "Drop the new merge column"
   ]
  },
  {
   "cell_type": "code",
   "execution_count": 6,
   "metadata": {
    "collapsed": true
   },
   "outputs": [],
   "source": [
    "result = result.drop(result.columns[37:40], axis=1)"
   ]
  },
  {
   "cell_type": "markdown",
   "metadata": {
    "collapsed": true
   },
   "source": [
    "Now we already have Woocommerce import/export format (37 column) with the 'Description' and 'Short description' filled."
   ]
  },
  {
   "cell_type": "markdown",
   "metadata": {},
   "source": [
    "# Images Link"
   ]
  },
  {
   "cell_type": "markdown",
   "metadata": {},
   "source": [
    "Next step we create a link for image of the products. We must view the data first by count number of the pic per \"ID\"."
   ]
  },
  {
   "cell_type": "code",
   "execution_count": 7,
   "metadata": {
    "collapsed": true
   },
   "outputs": [],
   "source": [
    "#count pic per id\n",
    "df_img_link['ID'] = df_img_link['ID'].astype('category')\n",
    "count_pic_per_id = pd.DataFrame(df_img_link['ID'].value_counts())\n",
    "count_pic_per_id = count_pic_per_id.sort_index(axis=0)"
   ]
  },
  {
   "cell_type": "markdown",
   "metadata": {},
   "source": [
    "Now let's take a look at how Prestashop and Woocommerce link the image.\n",
    "\n",
    "Prestashop keep the product images in \"img/p\". The image of products id 1234 will be save in folder 1/2/3/4. \n",
    "\n",
    "First, we copy all images from Prestashop (copy folder \"p\"). Images still separate by folder, we solve this by search for \".jpg\" files in folder \"p\" on our desktop. Copy all of images to be in the same folder. We only interest in the main image (when upload product image, Prestashop will copy original image and resize it), so we search again and delete the image with a word \"default\".\n",
    "\n",
    "Upload all images to Woocommerce. Woocommerce stores them by uploaded year and date. The picture folder is at \"wp-content/uploads/2017/09/\""
   ]
  },
  {
   "cell_type": "code",
   "execution_count": 8,
   "metadata": {
    "collapsed": true
   },
   "outputs": [],
   "source": [
    "#Create a link to images\n",
    "id_str = df_img_link['id_image'].astype(str)\n",
    "df_img_link['id_image'] = 'http://aphrosbrand.com/wp-content/uploads/2017/09/' + id_str + '.jpg'"
   ]
  },
  {
   "cell_type": "markdown",
   "metadata": {},
   "source": [
    "Many product have link to more than one images. Some images is the books front page. The others are the detail page. We must put them in the right order."
   ]
  },
  {
   "cell_type": "code",
   "execution_count": 9,
   "metadata": {
    "collapsed": true
   },
   "outputs": [],
   "source": [
    "#Each product id image has a postion. Position 1 is the main image of product. \n",
    "#We sort the position column first.                         \n",
    "df_img_link = df_img_link.sort_values('position')     \n",
    "#Group df_img_link by \"ID\".\n",
    "x = df_img_link.groupby('ID').agg(lambda x: x.tolist())\n",
    "#Not use the \"ID\" column as index.\n",
    "x.reset_index(inplace=True)   "
   ]
  },
  {
   "cell_type": "markdown",
   "metadata": {},
   "source": [
    "Merge dataframe. Fill image links in Woocommerce form (column 'Images') and then drop unused column."
   ]
  },
  {
   "cell_type": "code",
   "execution_count": 10,
   "metadata": {
    "collapsed": false
   },
   "outputs": [],
   "source": [
    "#merge\n",
    "result = pd.merge(result, x, how='left', on='ID')\n",
    "#Set new images link (id_image) to 'Images'\n",
    "result['Images'] = result['id_image']\n",
    "#drop col ที่เพิ่มมาทิ้ง\n",
    "result = result.drop(result.columns[37:41], axis=1)   "
   ]
  },
  {
   "cell_type": "markdown",
   "metadata": {},
   "source": [
    "Now we have a link to images in \"Images\" column but they are stored as list. We must remove [, [ and ' sign."
   ]
  },
  {
   "cell_type": "code",
   "execution_count": 11,
   "metadata": {
    "collapsed": true
   },
   "outputs": [],
   "source": [
    "#Create Pandas Siries with nan values. Use it in for loop to remove [, ] and ' sign.\n",
    "empty = np.empty(result.shape[0])\n",
    "images = pd.Series(empty)\n",
    "images[:] = np.nan\n",
    "\n",
    "for x in range(result.shape[0]):\n",
    "    text1 = str(result['Images'].loc[x]).replace(\"'\", '')\n",
    "    text2 = text1.replace('[', '')\n",
    "    images.loc[x] = text2.replace(\"]\", '')\n",
    "    \n",
    "result['Images'] = images"
   ]
  },
  {
   "cell_type": "markdown",
   "metadata": {},
   "source": [
    "# Weight"
   ]
  },
  {
   "cell_type": "markdown",
   "metadata": {},
   "source": [
    "The weight of product can find in \"ps_product.csv\""
   ]
  },
  {
   "cell_type": "code",
   "execution_count": 12,
   "metadata": {
    "collapsed": true
   },
   "outputs": [],
   "source": [
    "ps_product = pd.read_csv('sql_prestashop/ps_product.csv', index_col=False)"
   ]
  },
  {
   "cell_type": "markdown",
   "metadata": {},
   "source": [
    "Create dataframe with column \"id_product\" and \"weight\""
   ]
  },
  {
   "cell_type": "code",
   "execution_count": 13,
   "metadata": {
    "collapsed": true
   },
   "outputs": [],
   "source": [
    "weight = pd.DataFrame(ps_product['id_product'])\n",
    "weight['weight'] = ps_product['weight']"
   ]
  },
  {
   "cell_type": "markdown",
   "metadata": {},
   "source": [
    "Rename \"id_product\" to \"ID\" and merge with result dataframe"
   ]
  },
  {
   "cell_type": "code",
   "execution_count": 14,
   "metadata": {
    "collapsed": true
   },
   "outputs": [],
   "source": [
    "#Rename \"id_product\" to \"ID\"\n",
    "weight = weight.rename(columns = {'id_product':'ID'})\n",
    "#merge\n",
    "result = pd.merge(result, weight, how='left', on='ID')"
   ]
  },
  {
   "cell_type": "markdown",
   "metadata": {},
   "source": [
    "Woocommerce store weight of the product in gram. We must multiply weight from Prestashop by 1000. Fill data in \"Weight (g)\" then dropthe unused column."
   ]
  },
  {
   "cell_type": "code",
   "execution_count": 15,
   "metadata": {
    "collapsed": true
   },
   "outputs": [],
   "source": [
    "result['Weight (g)'] = result['weight'] * 1000\n",
    "result = result.drop(['weight'], axis=1)"
   ]
  },
  {
   "cell_type": "markdown",
   "metadata": {},
   "source": [
    "# Category"
   ]
  },
  {
   "cell_type": "markdown",
   "metadata": {},
   "source": [
    "Loading the data from Prestashop database involve with the category."
   ]
  },
  {
   "cell_type": "code",
   "execution_count": 16,
   "metadata": {
    "collapsed": true
   },
   "outputs": [],
   "source": [
    "ps_category_lang = pd.read_csv('sql_prestashop/ps_category_lang.csv', index_col=False)\n",
    "ps_category_product = pd.read_csv('sql_prestashop/ps_category_product.csv', index_col=False)"
   ]
  },
  {
   "cell_type": "markdown",
   "metadata": {},
   "source": [
    "In ps_category_lang, we don't have the unique id_category yet. We group the id_category first by select id_category that has maximum string in \"name\" column. "
   ]
  },
  {
   "cell_type": "code",
   "execution_count": 17,
   "metadata": {
    "collapsed": true
   },
   "outputs": [],
   "source": [
    "sum_categories = ps_category_lang.groupby('id_category', as_index=False)['name'].max()"
   ]
  },
  {
   "cell_type": "markdown",
   "metadata": {},
   "source": [
    "After review the \"sum_categories\". We manually select the category for our Woocommerce store. Then change it to English (at first the category is written in Thai)."
   ]
  },
  {
   "cell_type": "code",
   "execution_count": 18,
   "metadata": {
    "collapsed": true
   },
   "outputs": [],
   "source": [
    "sum_categories.loc[2,'name'] = 'Doujinshi'                    \n",
    "sum_categories.loc[3,'name'] = 'Doujinshi - Movie'                 \n",
    "sum_categories.loc[4,'name'] = 'Doujinshi - Manga and Anime'\n",
    "sum_categories.loc[5,'name'] = 'Others'\n",
    "sum_categories.loc[7,'name'] = 'Doujinshi - Original'\n",
    "sum_categories.loc[8,'name'] = 'Keychain'\n",
    "sum_categories.loc[9,'name'] = 'Doujinshi - Game'\n",
    "sum_categories.loc[10,'name'] = 'Note Book'\n",
    "sum_categories.loc[11,'name'] = 'Pin'\n",
    "sum_categories.loc[17,'name'] = 'Sticker'\n",
    "sum_categories.loc[10,'name'] = 'Note Book'\n",
    "sum_categories.loc[18,'name'] = 'Doujinshi - Fiction'\n",
    "sum_categories.loc[21,'name'] = 'others'"
   ]
  },
  {
   "cell_type": "markdown",
   "metadata": {},
   "source": [
    "We merge our new category to \"ps_product\" to match category name with id_product."
   ]
  },
  {
   "cell_type": "code",
   "execution_count": 19,
   "metadata": {
    "collapsed": true
   },
   "outputs": [],
   "source": [
    "#merge\n",
    "categories = pd.merge(ps_category_product, sum_categories, how='left', on='id_category')"
   ]
  },
  {
   "cell_type": "markdown",
   "metadata": {},
   "source": [
    "One product maybe member of more than one category. We group other column to list by \"id_product\"."
   ]
  },
  {
   "cell_type": "code",
   "execution_count": 20,
   "metadata": {
    "collapsed": true
   },
   "outputs": [],
   "source": [
    "categories = categories.groupby('id_product', as_index=False).agg(lambda x: x.tolist())"
   ]
  },
  {
   "cell_type": "markdown",
   "metadata": {},
   "source": [
    "Create Pandas Siries with nan values. This use to acquire the data in loop."
   ]
  },
  {
   "cell_type": "code",
   "execution_count": 21,
   "metadata": {
    "collapsed": true
   },
   "outputs": [],
   "source": [
    "empty = np.empty(categories.shape[0])\n",
    "cat1 = pd.Series(empty)\n",
    "cat2 = pd.Series(empty)\n",
    "cat3 = pd.Series(empty)\n",
    "\n",
    "cat1[:] = np.nan\n",
    "cat2[:] = np.nan\n",
    "cat3[:] = np.nan"
   ]
  },
  {
   "cell_type": "markdown",
   "metadata": {},
   "source": [
    "We have to change format of category in Woocommerce. The new category will have only 2 main categories \"Doujinshi\" and \"Others\" store in \"cat1\". We run for loop to check the first element of the list in \"id_category\" column. If it is 3, 4, 5, 9, 11, 20, we set it as \"Doujinshi\". The others set to \"Others\"   \n",
    "\n",
    "Then we use \"cat2\" to find sub category of \"Doujinshi\" and \"Others\" by checking the first and second element of the list.\n",
    "\n",
    "Example:\n",
    "the list in categories['id_category'][0] is [3,4]. the result in cat1 is \"Doujinshi\" and cat2 is \"Movie\""
   ]
  },
  {
   "cell_type": "code",
   "execution_count": 22,
   "metadata": {
    "collapsed": true
   },
   "outputs": [],
   "source": [
    "for x in range(categories.shape[0]):\n",
    "    #Cat1\n",
    "    #3 4 5 9 11 20 is the 'id_category' for 'Doujinshi'\n",
    "    if categories['id_category'][x][0] in (3, 4, 5, 9, 11, 20):\n",
    "        cat1[x] = 'Doujinshi'\n",
    "    else:\n",
    "        cat1[x] = 'Others'\n",
    "\n",
    "    #Cat2\n",
    "    #Sub Doujinshi\n",
    "    if 4 in categories['id_category'][x][0:2]:\n",
    "        cat2[x] = 'Movie'        \n",
    "    if 5 in categories['id_category'][x][0:2]:\n",
    "        cat2[x] = 'Manga and Anime'        \n",
    "    if 9 in categories['id_category'][x][0:2]:\n",
    "        cat2[x] = 'Original'        \n",
    "    if 11 in categories['id_category'][x][0:2]:\n",
    "        cat2[x] = 'Game'        \n",
    "    if 17 in categories['id_category'][x][0:2]:\n",
    "        cat2[x] = 'Fiction'        \n",
    "    if 20 in categories['id_category'][x][0:2]:\n",
    "        cat2[x] = 'Fiction'\n",
    "        \n",
    "    #Sub Others\n",
    "    if 7 in categories['id_category'][x][0:2]:\n",
    "        cat2[x] = 'others'        \n",
    "    if 8 in categories['id_category'][x][0:2]:\n",
    "        cat2[x] = 'Keychain'        \n",
    "    if 10 in categories['id_category'][x][0:2]:\n",
    "        cat2[x] = 'Keychain'        \n",
    "    if 12 in categories['id_category'][x][0:2]:\n",
    "        cat2[x] = 'Notebook'       \n",
    "    if 13 in categories['id_category'][x][0:2]:\n",
    "        cat2[x] = 'Pin'        \n",
    "    if 14 in categories['id_category'][x][0:2]:\n",
    "        cat2[x] = 'others'        \n",
    "    if 15 in categories['id_category'][x][0:2]:\n",
    "        cat2[x] = 'others'       \n",
    "    if 16 in categories['id_category'][x][0:2]:\n",
    "        cat2[x] = 'others'       \n",
    "    if 18 in categories['id_category'][x][0:2]:\n",
    "        cat2[x] = 'others'        \n",
    "    if 19 in categories['id_category'][x][0:2]:\n",
    "        cat2[x] = 'Sticker'        \n",
    "    if 21 in categories['id_category'][x][0:2]:\n",
    "        cat2[x] = 'others'   \n",
    "    if 22 in categories['id_category'][x][0:2]:\n",
    "        cat2[x] = 'others'      \n",
    "    if 23 in categories['id_category'][x][0:2]:\n",
    "        cat2[x] = 'others'        \n",
    "    if 24 in categories['id_category'][x][0:2]:\n",
    "        cat2[x] = 'others'"
   ]
  },
  {
   "cell_type": "markdown",
   "metadata": {},
   "source": [
    "We concat \"cat1\" and \"cat2\" to be in Woocommerce category form. The final category will be like this \"Doujinshi, Doujinshi > Movie\"."
   ]
  },
  {
   "cell_type": "code",
   "execution_count": 23,
   "metadata": {
    "collapsed": true
   },
   "outputs": [],
   "source": [
    "cat3 = cat1 + ',' + ' ' + cat1 + ' > ' + cat2"
   ]
  },
  {
   "cell_type": "markdown",
   "metadata": {},
   "source": [
    "Some \"cat2\" still have nan value. We fill it with \"Doujinshi\"."
   ]
  },
  {
   "cell_type": "code",
   "execution_count": 24,
   "metadata": {
    "collapsed": true
   },
   "outputs": [],
   "source": [
    "#Count nan value in \"cat2\"\n",
    "cat2.isnull().sum()\n",
    "#Fill nan value with \"Doujinshi\"\n",
    "cat3[cat2.isnull()] = 'Doujinshi'"
   ]
  },
  {
   "cell_type": "markdown",
   "metadata": {},
   "source": [
    "Fill \"Categories\" column of result dataframe with \"cat3\""
   ]
  },
  {
   "cell_type": "code",
   "execution_count": 25,
   "metadata": {
    "collapsed": false
   },
   "outputs": [],
   "source": [
    "result['Categories'] = cat3"
   ]
  },
  {
   "cell_type": "markdown",
   "metadata": {},
   "source": [
    "# Tag"
   ]
  },
  {
   "cell_type": "markdown",
   "metadata": {},
   "source": [
    "We have 2 types of tags.\n",
    "\n",
    "1) New Woocommerce tag using the Prestashop's category. Changing category about the artist name and story name to be tag in Woocommerce.\n",
    "\n",
    "2) The old tag from Prestashop."
   ]
  },
  {
   "cell_type": "code",
   "execution_count": 26,
   "metadata": {
    "collapsed": true
   },
   "outputs": [],
   "source": [
    "#Create nan Series use to acquire tag\n",
    "empty = np.empty(categories.shape[0])\n",
    "tag = pd.Series(empty)\n",
    "tag[:] = np.nan"
   ]
  },
  {
   "cell_type": "markdown",
   "metadata": {},
   "source": [
    "We do the tag from 1) first. "
   ]
  },
  {
   "cell_type": "code",
   "execution_count": 27,
   "metadata": {
    "collapsed": true
   },
   "outputs": [],
   "source": [
    "#set id_category to be index for the use in for loop.\n",
    "sum_categories = sum_categories.set_index('id_category')\n",
    "\n",
    "#We collect string, so set the first element to be empty string.\n",
    "tag.iloc[0] = ''\n",
    "for x in range(categories.shape[0]):\n",
    "    tag_list = []\n",
    "    for y in categories['id_category'][x]:\n",
    "        if y > 26:\n",
    "            tag_list.append(sum_categories['name'].loc[y])\n",
    "    tag.iloc[x] = tag_list"
   ]
  },
  {
   "cell_type": "code",
   "execution_count": 28,
   "metadata": {
    "collapsed": true
   },
   "outputs": [],
   "source": [
    "#Add 'tag' column to categories.\n",
    "categories['tag'] = tag"
   ]
  },
  {
   "cell_type": "markdown",
   "metadata": {},
   "source": [
    "Then collect the tag from prestashop database"
   ]
  },
  {
   "cell_type": "code",
   "execution_count": 29,
   "metadata": {
    "collapsed": true
   },
   "outputs": [],
   "source": [
    "#Still have to add some old tag. Loading from Prestashop database\n",
    "ps_tag = pd.read_csv('sql_prestashop/ps_tag.csv', index_col=False)\n",
    "ps_product_tag = pd.read_csv('sql_prestashop/ps_product_tag.csv', index_col=False)"
   ]
  },
  {
   "cell_type": "code",
   "execution_count": 30,
   "metadata": {
    "collapsed": true
   },
   "outputs": [],
   "source": [
    "#Drop unuse column\n",
    "ps_tag = ps_tag.drop('id_lang', axis=1)"
   ]
  },
  {
   "cell_type": "markdown",
   "metadata": {},
   "source": [
    "Now \"ps_tag\" has 2 column \"id_tag\" and \"name\". We must find the correlation with each \"id_product\", so we merge \"ps_product_tag\" which has \"id_product\" correspond with \"id_tag\" to \"ps_tag\"."
   ]
  },
  {
   "cell_type": "code",
   "execution_count": 31,
   "metadata": {
    "collapsed": true
   },
   "outputs": [],
   "source": [
    "#merge\n",
    "old_presta_tag = pd.merge(ps_product_tag, ps_tag, how='left', on='id_tag')"
   ]
  },
  {
   "cell_type": "markdown",
   "metadata": {},
   "source": [
    "We use only Thai language (\"2\")."
   ]
  },
  {
   "cell_type": "code",
   "execution_count": 32,
   "metadata": {
    "collapsed": true
   },
   "outputs": [],
   "source": [
    "#Use only lang = 2 (Thai)\n",
    "old_presta_tag = old_presta_tag[old_presta_tag['id_lang'] == 2]"
   ]
  },
  {
   "cell_type": "markdown",
   "metadata": {},
   "source": [
    "Next we group the \"id_product\" to be unique id. The sample in other column with same \"id_product\" will be aggregate into list."
   ]
  },
  {
   "cell_type": "code",
   "execution_count": 33,
   "metadata": {
    "collapsed": true
   },
   "outputs": [],
   "source": [
    "#Groupby 'id_product' to list\n",
    "old_presta_tag = old_presta_tag.groupby('id_product', as_index=False).agg(lambda x: x.tolist())"
   ]
  },
  {
   "cell_type": "markdown",
   "metadata": {},
   "source": [
    "Change new column name for further use."
   ]
  },
  {
   "cell_type": "code",
   "execution_count": 34,
   "metadata": {
    "collapsed": true
   },
   "outputs": [],
   "source": [
    "#Change column name\n",
    "old_presta_tag = old_presta_tag.rename(columns = {'name':'from_ps_tag'})"
   ]
  },
  {
   "cell_type": "markdown",
   "metadata": {},
   "source": [
    "Then merge tag \"old_presta_tag\" to \"categories\". We have tag from 1) and 2) in the same dataframe already."
   ]
  },
  {
   "cell_type": "code",
   "execution_count": 35,
   "metadata": {
    "collapsed": true
   },
   "outputs": [],
   "source": [
    "#merge old_presta_tag to categories by 'id_product'\n",
    "#This is to aggregate 'tag' and 'old_tag' with same 'id_product'\n",
    "categories = pd.merge(categories, old_presta_tag[['id_product', 'from_ps_tag']], how='left', on='id_product')"
   ]
  },
  {
   "cell_type": "markdown",
   "metadata": {},
   "source": [
    "Next we will aggregate tag from 1) and 2) into the same list."
   ]
  },
  {
   "cell_type": "code",
   "execution_count": 36,
   "metadata": {
    "collapsed": false
   },
   "outputs": [
    {
     "data": {
      "text/plain": [
       "251"
      ]
     },
     "execution_count": 36,
     "metadata": {},
     "output_type": "execute_result"
    }
   ],
   "source": [
    "#Before run the loop. We must find the 'nan' value that will cause the error.\n",
    "categories['tag'].isnull().sum()\n",
    "categories['from_ps_tag'].isnull().sum()"
   ]
  },
  {
   "cell_type": "markdown",
   "metadata": {},
   "source": [
    "If there is no old tag (tag from 2)), it will cause an error. We create \"have_ps_tag\" which is \"categories\" dataframe without nan value."
   ]
  },
  {
   "cell_type": "code",
   "execution_count": 37,
   "metadata": {
    "collapsed": true
   },
   "outputs": [],
   "source": [
    "#Avoid categories['old_tag'] nan value that cause the error\n",
    "#First we extract none nan sample to be new DataFrame called 'have_ps_tag' \n",
    "have_ps_tag = categories[categories['from_ps_tag'].isnull() == False]"
   ]
  },
  {
   "cell_type": "markdown",
   "metadata": {},
   "source": [
    "We use python \"extend\" to extend the list of column \"tag\" with \"from_ps_tag\"."
   ]
  },
  {
   "cell_type": "code",
   "execution_count": 38,
   "metadata": {
    "collapsed": true
   },
   "outputs": [],
   "source": [
    "#Then we extend the tag with the one from ps_tag\n",
    "#Although we run from have_ps_tag, it will change 'categories['tag']' too\n",
    "#because have_ps_tag is build from categories DataFrame\n",
    "for x in range(have_ps_tag['id_product'].shape[0]):\n",
    "    have_ps_tag['tag'].iloc[x].extend(have_ps_tag['from_ps_tag'].iloc[x])"
   ]
  },
  {
   "cell_type": "markdown",
   "metadata": {},
   "source": [
    "Now we have a long list in categories['tag']. Our problem is some tag is the same name but different in lower or uppercase letter.\n",
    "\n",
    "Creating new Series to use in for loop. Initial the first index to '' in order to prevent the error."
   ]
  },
  {
   "cell_type": "code",
   "execution_count": 39,
   "metadata": {
    "collapsed": true
   },
   "outputs": [],
   "source": [
    "#Create nan Series use to acquire a sum_tag and lowercase tag list\n",
    "empty = np.empty(categories.shape[0])\n",
    "sum_tag = pd.Series(empty)\n",
    "lowercase = pd.Series(empty)\n",
    "sum_tag[:] = np.nan\n",
    "lowercase[:] = np.nan\n",
    "#Fill null string to protect 'value error'\n",
    "sum_tag[0] = ''\n",
    "lowercase[0] = ''"
   ]
  },
  {
   "cell_type": "markdown",
   "metadata": {},
   "source": [
    "Start a loop by first changing all element in each list to be lowercase letter. Then run a loop again in lowercase letter, pick tag only appear once.\n",
    "\n",
    "Then set the final tag to categories['tag']"
   ]
  },
  {
   "cell_type": "code",
   "execution_count": 40,
   "metadata": {
    "collapsed": true
   },
   "outputs": [],
   "source": [
    "for x in range(categories.shape[0]):\n",
    "    newlist = []\n",
    "    lowercase.iloc[x] = [q.lower() for q in categories['tag'].iloc[x]]     \n",
    "    for i in lowercase.iloc[x]:\n",
    "        if i not in newlist:\n",
    "            newlist.append(i)\n",
    "    sum_tag.iloc[x] = newlist                        \n",
    "                    \n",
    "#Replace 'tag' with 'sum_tag' \n",
    "categories['tag'] = sum_tag"
   ]
  },
  {
   "cell_type": "markdown",
   "metadata": {},
   "source": [
    "Merge to result dataframe."
   ]
  },
  {
   "cell_type": "code",
   "execution_count": 41,
   "metadata": {
    "collapsed": true
   },
   "outputs": [],
   "source": [
    "#Change categories column name for merge\n",
    "categories = categories.rename(columns = {'id_product':'ID'})\n",
    "#merge to result\n",
    "result = pd.merge(result, categories, how='left', on='ID')"
   ]
  },
  {
   "cell_type": "markdown",
   "metadata": {},
   "source": [
    "Fill in 'Tags' and then drop unused column."
   ]
  },
  {
   "cell_type": "code",
   "execution_count": 42,
   "metadata": {
    "collapsed": false
   },
   "outputs": [],
   "source": [
    "#Add to result['Categories'] & result['Tags']\n",
    "result['Tags'] = result['tag']\n",
    "#Drop unuse column\n",
    "result = result.drop(['id_category', 'position', 'name', 'tag', 'from_ps_tag'], axis=1)"
   ]
  },
  {
   "cell_type": "markdown",
   "metadata": {},
   "source": [
    "Tag still in list. We must remove [, ], ' sign."
   ]
  },
  {
   "cell_type": "code",
   "execution_count": 43,
   "metadata": {
    "collapsed": true
   },
   "outputs": [],
   "source": [
    "#Remove [, ] and ' in 'tag' column\n",
    "#Convert list to string first\n",
    "#Declare nan Series use to get data in for loop\n",
    "empty = np.empty(result.shape[0])\n",
    "tag = pd.Series(empty)\n",
    "tag[:] = np.nan\n",
    "\n",
    "for x in range(result.shape[0]):\n",
    "    text1 = str(result['Tags'].loc[x]).replace(\"'\", '')\n",
    "    text1 = text1[0].replace('[','') + text1[1:]\n",
    "    text1 = text1[-1].replace(']','') + text1[:-1]\n",
    "    tag.loc[x] = text1\n",
    "    \n",
    "result['Tags'] = tag"
   ]
  },
  {
   "cell_type": "markdown",
   "metadata": {},
   "source": [
    "# SKU"
   ]
  },
  {
   "cell_type": "markdown",
   "metadata": {},
   "source": [
    "Woocommerce use \"SKU\" instead of product id. Set \"SKU\" equal to \"id_product\"."
   ]
  },
  {
   "cell_type": "code",
   "execution_count": 44,
   "metadata": {
    "collapsed": true
   },
   "outputs": [],
   "source": [
    "result['SKU'] = result['ID']"
   ]
  },
  {
   "cell_type": "markdown",
   "metadata": {},
   "source": [
    "# Export file"
   ]
  },
  {
   "cell_type": "markdown",
   "metadata": {},
   "source": [
    "If Product is too large, it will difficult importing to Woocommerce. We separate into 10 part."
   ]
  },
  {
   "cell_type": "code",
   "execution_count": 45,
   "metadata": {
    "collapsed": true
   },
   "outputs": [],
   "source": [
    "separate_no = round(result.shape[0]/10)"
   ]
  },
  {
   "cell_type": "code",
   "execution_count": 46,
   "metadata": {
    "collapsed": true
   },
   "outputs": [],
   "source": [
    "result_part1 = result.iloc[0:separate_no]\n",
    "result_part2 = result.iloc[separate_no:2*separate_no]\n",
    "result_part3 = result.iloc[2*separate_no:3*separate_no]\n",
    "result_part4 = result.iloc[3*separate_no:4*separate_no]\n",
    "result_part5 = result.iloc[4*separate_no:5*separate_no]\n",
    "result_part6 = result.iloc[5*separate_no:6*separate_no]\n",
    "result_part7 = result.iloc[6*separate_no:7*separate_no]\n",
    "result_part8 = result.iloc[7*separate_no:8*separate_no]\n",
    "result_part9 = result.iloc[8*separate_no:9*separate_no]\n",
    "result_part10 = result.iloc[9*separate_no:result.shape[0]]"
   ]
  },
  {
   "cell_type": "markdown",
   "metadata": {},
   "source": [
    "Create a short one for testing import product."
   ]
  },
  {
   "cell_type": "code",
   "execution_count": 47,
   "metadata": {
    "collapsed": true
   },
   "outputs": [],
   "source": [
    "result_short10 = result.iloc[0:10]"
   ]
  },
  {
   "cell_type": "markdown",
   "metadata": {},
   "source": [
    "Export them to .csv file with \"utf-8\" encoding."
   ]
  },
  {
   "cell_type": "code",
   "execution_count": null,
   "metadata": {
    "collapsed": false
   },
   "outputs": [],
   "source": [
    "#save to .csv\n",
    "result.to_csv('product_import_to_woo/raw_product.csv', encoding='utf-8')\n",
    "result_part1.to_csv('product_import_to_woo/raw_product1.csv', encoding='utf-8')\n",
    "result_part2.to_csv('product_import_to_woo/raw_product2.csv', encoding='utf-8')\n",
    "result_part3.to_csv('product_import_to_woo/raw_product3.csv', encoding='utf-8')\n",
    "result_part4.to_csv('product_import_to_woo/raw_product4.csv', encoding='utf-8')\n",
    "result_part5.to_csv('product_import_to_woo/raw_product5.csv', encoding='utf-8')\n",
    "result_part6.to_csv('product_import_to_woo/raw_product6.csv', encoding='utf-8')\n",
    "result_part7.to_csv('product_import_to_woo/raw_product7.csv', encoding='utf-8')\n",
    "result_part8.to_csv('product_import_to_woo/raw_product8.csv', encoding='utf-8')\n",
    "result_part9.to_csv('product_import_to_woo/raw_product9.csv', encoding='utf-8')\n",
    "result_part10.to_csv('product_import_to_woo/raw_product10.csv', encoding='utf-8')\n",
    "\n",
    "result_short10.to_csv('product_import_to_woo/raw_product_short10.csv', encoding='utf-8')"
   ]
  }
 ],
 "metadata": {
  "anaconda-cloud": {},
  "kernelspec": {
   "display_name": "Python [conda root]",
   "language": "python",
   "name": "conda-root-py"
  },
  "language_info": {
   "codemirror_mode": {
    "name": "ipython",
    "version": 3
   },
   "file_extension": ".py",
   "mimetype": "text/x-python",
   "name": "python",
   "nbconvert_exporter": "python",
   "pygments_lexer": "ipython3",
   "version": "3.5.2"
  }
 },
 "nbformat": 4,
 "nbformat_minor": 1
}
