{
 "cells": [
  {
   "cell_type": "markdown",
   "metadata": {
    "collapsed": true
   },
   "source": [
    "# Translation of products "
   ]
  },
  {
   "cell_type": "markdown",
   "metadata": {},
   "source": [
    "This is the code for translation of products. In Prestashop, we have products in Thai and English description. We need to move the translation database to Woocommerce. Woocommerce uses \"WPML Multilingual CMS\" plugin. After activate, this plugin will create a database called \"wp_icl_translation\". The \"trid\" column is used to match the Thai and English version of the same product.\n",
    "\n",
    "Our process is to create a English description product in \"wp_posts\" and \"wp_postmeta\" then match the \"trid\" of Thai and English product in \"wp_icl_translations\".\n",
    "\n",
    "There are 3 parts.\n",
    "\n",
    "- Creating the \"wp_posts\" for English description products.\n",
    "\n",
    "- Creating the \"wp_postmeta\" for English description products.\n",
    "\n",
    "- Matching the \"trid\" of Thai and English product in the \"wp_icl_translations\""
   ]
  },
  {
   "cell_type": "markdown",
   "metadata": {},
   "source": [
    "# Creating the \"wp_posts\""
   ]
  },
  {
   "cell_type": "markdown",
   "metadata": {},
   "source": [
    "Our process here is to create wp_posts for English description product. We create new \"wp_posts\" with contain English product by copy the Thai products and fill them with English descriptions. Change ID and index and concatenate it with the old \"wp_posts\". Upload new \"wp_posts\" to Woocommerce. Woocommerce will show you more products (because we copy from Thai product, backend will show 2 x number of products)."
   ]
  },
  {
   "cell_type": "markdown",
   "metadata": {},
   "source": [
    "### Filling the English \"Description\" and \"Short description\"."
   ]
  },
  {
   "cell_type": "code",
   "execution_count": 1,
   "metadata": {
    "collapsed": true
   },
   "outputs": [],
   "source": [
    "import pandas as pd\n",
    "import numpy as np"
   ]
  },
  {
   "cell_type": "markdown",
   "metadata": {},
   "source": [
    "We load the data. There are \n",
    "\n",
    "1) \"ps_product_lang.csv\" the description and short description in Thai and English from Prestashop.\n",
    "\n",
    "2) \"wp_posts.csv\" Woocommerce database consists of everything posting on the site (products, images and more). "
   ]
  },
  {
   "cell_type": "code",
   "execution_count": 2,
   "metadata": {
    "collapsed": true
   },
   "outputs": [],
   "source": [
    "#Description from Prestashop\n",
    "df_description = pd.read_csv('sql_prestashop/ps_product_lang.csv', index_col=False)\n",
    "#wp_posts from Woocommerce\n",
    "wp_posts = pd.read_csv('sql_prestashop/wp_posts.csv', index_col=False)"
   ]
  },
  {
   "cell_type": "markdown",
   "metadata": {},
   "source": [
    "We select only the English description from Prestashop database."
   ]
  },
  {
   "cell_type": "code",
   "execution_count": 3,
   "metadata": {
    "collapsed": false
   },
   "outputs": [],
   "source": [
    "#Use only English \"Description\" & \"Short description\" from Prestashop.\n",
    "df_description = df_description[df_description['id_lang'] == 1]"
   ]
  },
  {
   "cell_type": "markdown",
   "metadata": {},
   "source": [
    "Next step, we fill the \"Description\" & \"Short description\" in \"wp_posts\".\n",
    "\n",
    "Sorting the ID first."
   ]
  },
  {
   "cell_type": "code",
   "execution_count": 4,
   "metadata": {
    "collapsed": true
   },
   "outputs": [],
   "source": [
    "eng_des = wp_posts.sort_values('ID')"
   ]
  },
  {
   "cell_type": "markdown",
   "metadata": {},
   "source": [
    "\"wp_posts\" has many post types. We extract only \"product\" type."
   ]
  },
  {
   "cell_type": "code",
   "execution_count": 5,
   "metadata": {
    "collapsed": true
   },
   "outputs": [],
   "source": [
    "eng_des = eng_des[eng_des['post_type'] == 'product']"
   ]
  },
  {
   "cell_type": "markdown",
   "metadata": {},
   "source": [
    "Change column name for merge. Then we merge \"eng_des\" and \"df_description\" by name of a products. This will ensure that we match the right description to the right product."
   ]
  },
  {
   "cell_type": "code",
   "execution_count": 6,
   "metadata": {
    "collapsed": true
   },
   "outputs": [],
   "source": [
    "#Change column name for merging dataframe.\n",
    "eng_des = eng_des.rename(columns = {'post_title':'name'})\n",
    "\n",
    "#merge.\n",
    "eng_des = pd.merge(eng_des, df_description[['name', 'description', 'description_short']], how='left', on='name')"
   ]
  },
  {
   "cell_type": "markdown",
   "metadata": {},
   "source": [
    "Fill wp_post new \"Description and \"Short description\". Then drop the unuse"
   ]
  },
  {
   "cell_type": "code",
   "execution_count": 7,
   "metadata": {
    "collapsed": true
   },
   "outputs": [],
   "source": [
    "eng_des['post_excerpt'] = eng_des['description_short']\n",
    "eng_des['post_content'] = eng_des['description']\n",
    "\n",
    "#Drop unused column.\n",
    "eng_des = eng_des.drop(['description', 'description_short'], axis=1)"
   ]
  },
  {
   "cell_type": "markdown",
   "metadata": {},
   "source": [
    "There are some duplicate entry because some entry share the same name."
   ]
  },
  {
   "cell_type": "code",
   "execution_count": 8,
   "metadata": {
    "collapsed": true
   },
   "outputs": [],
   "source": [
    "#Check for duplicate entry.\n",
    "count = eng_des['name'].value_counts()\n",
    "#Drop duplicate name of product.\n",
    "eng_des = eng_des.drop_duplicates(subset='name')\n",
    "\n",
    "#Create series for Thai ID.\n",
    "th_id = eng_des['ID']"
   ]
  },
  {
   "cell_type": "markdown",
   "metadata": {},
   "source": [
    "Changing \"name\" column back to \"post_title\". Protect the error when concatenating (after concatenate, it will have 24 column)."
   ]
  },
  {
   "cell_type": "code",
   "execution_count": 9,
   "metadata": {
    "collapsed": true
   },
   "outputs": [],
   "source": [
    "#Changing \"name\" column back to \"post_title\". Protect the error when concatenating\n",
    "#(After concatenate, it will have 24 column).\n",
    "eng_des = eng_des.rename(columns = {'name':'post_title'})"
   ]
  },
  {
   "cell_type": "markdown",
   "metadata": {},
   "source": [
    "### Change some error strings."
   ]
  },
  {
   "cell_type": "markdown",
   "metadata": {},
   "source": [
    "Some of the strings in English description are not in English. We need to change them.\n",
    "\n",
    "First, we create empty value series and use it to collect new description data."
   ]
  },
  {
   "cell_type": "code",
   "execution_count": 10,
   "metadata": {
    "collapsed": true
   },
   "outputs": [],
   "source": [
    "empty = np.empty(eng_des.shape[0])\n",
    "description = pd.Series(empty)\n",
    "description[0] = ''"
   ]
  },
  {
   "cell_type": "markdown",
   "metadata": {},
   "source": [
    "Then we run a for loop to replace a string."
   ]
  },
  {
   "cell_type": "code",
   "execution_count": 11,
   "metadata": {
    "collapsed": true
   },
   "outputs": [],
   "source": [
    "for i in range(0, eng_des.shape[0]):\n",
    "    string = eng_des['post_content'].iloc[i]\n",
    "    if pd.isnull(string) == False:\n",
    "        string = string.replace(\"เรื่องย่อ\", \"Sypnosis\")\n",
    "        string = string.replace(\"ส่วนที่อยากบอก\", \"Artist said\")   \n",
    "        string = string.replace(\"ส่วนที่ผู้จัดทำอยากบอก\", \"Artist said\")  \n",
    "        string = string.replace(\"ช่องทางการติดต่อ\", \"Contact\")   \n",
    "        string = string.replace(\"ผู้จัดทำ\", \"Artist\") \n",
    "        string = string.replace(\"จากเรื่อง\", \"Parody\")  \n",
    "        string = string.replace(\"อ้างอิงจากเรื่อง\", \"Parody\") \n",
    "        string = string.replace(\"ลักษณะของสินค้า\", \"Details of the product\") \n",
    "        string = string.replace(\"ออกขายครั้งแรก\", \"Publication date\")  \n",
    "        string = string.replace(\"ชื่อสินค้า\", \"Product\") \n",
    "        string = string.replace(\"ชื่อผลงาน\", \"Product\")\n",
    "        description[i] = string\n",
    "\n",
    "eng_des['post_content'] = description"
   ]
  },
  {
   "cell_type": "markdown",
   "metadata": {},
   "source": [
    "### Change ID and Index number."
   ]
  },
  {
   "cell_type": "code",
   "execution_count": 12,
   "metadata": {
    "collapsed": true
   },
   "outputs": [],
   "source": [
    "#Find max \"ID\" of wp_posts. Use max ID + 1 to be the starting ID of English product.\n",
    "max_id = wp_posts['ID'].max()\n",
    "#Create Series of number as a new \"ID\".\n",
    "eng_start = max_id + 1\n",
    "eng_end = eng_start + eng_des.shape[0]\n",
    "number = pd.Series(range(eng_start, eng_end))\n",
    "\n",
    "#Reset eng_des index\n",
    "eng_des = eng_des.reset_index()\n",
    "#Drop old index column.\n",
    "eng_des = eng_des.drop(['index'], axis=1)\n",
    "eng_des['ID'] = number\n",
    "\n",
    "#Create Series od number as a new index.\n",
    "max_index = wp_posts.index.values.max()\n",
    "eng_index_start = max_index + 1\n",
    "eng_index_end = eng_index_start + eng_des.shape[0]\n",
    "number = pd.Series(range(eng_index_start, eng_index_end))\n",
    "eng_des['number'] = number\n",
    "eng_des = eng_des.set_index(number)\n",
    "#Drop unused column.\n",
    "eng_des = eng_des.drop(['number'], axis=1)"
   ]
  },
  {
   "cell_type": "markdown",
   "metadata": {
    "collapsed": true
   },
   "source": [
    "### Create \"wp_posts\" entry for images."
   ]
  },
  {
   "cell_type": "markdown",
   "metadata": {},
   "source": [
    "We have already made \"wp_posts\" entry for products. If we concatenate this to the old \"wp_posts\" and upload to Woocommerce. The new English description product can't find the images. We solve this problem by create the images entry for \"wp_posts\".\n",
    "\n",
    "The process here is to copy the old images \"wp_posts\", change their \"post_parent\" to match image to the right product. Then concatenate to the old \"wp_posts\".\n",
    "\n",
    "First, we extract only \"attachment\" post_type."
   ]
  },
  {
   "cell_type": "code",
   "execution_count": 13,
   "metadata": {
    "collapsed": false
   },
   "outputs": [],
   "source": [
    "#Generate wp_posts for images\n",
    "image = wp_posts[wp_posts['post_type'] == 'attachment']"
   ]
  },
  {
   "cell_type": "markdown",
   "metadata": {},
   "source": [
    "Some images entry don't have a parent product. We select only the entries that have \"post_parent\" value. "
   ]
  },
  {
   "cell_type": "code",
   "execution_count": 14,
   "metadata": {
    "collapsed": true
   },
   "outputs": [],
   "source": [
    "image = image[image['post_parent'] != 0]"
   ]
  },
  {
   "cell_type": "markdown",
   "metadata": {},
   "source": [
    "Let's check by counting \"post_mime_type\" and \"post_parent\". \"post_mime_type\" is a type of file such as \".jpg\", \".png\". Use value_counts() will show the type of each file in the data and how number of them in each category. Counting the \"post_parent\" show nymber of images in each ID."
   ]
  },
  {
   "cell_type": "code",
   "execution_count": 15,
   "metadata": {
    "collapsed": false
   },
   "outputs": [],
   "source": [
    "#Check type of \"post_mime_type\"\n",
    "count = image['post_mime_type'].value_counts()\n",
    "#Check how many products.\n",
    "count = image['post_parent'].value_counts()"
   ]
  },
  {
   "cell_type": "markdown",
   "metadata": {},
   "source": [
    "Now we have to change \"post_parent\" to match the image to the right product. We use Python's dictionary to translate from old \"post_parent\" to a new one."
   ]
  },
  {
   "cell_type": "markdown",
   "metadata": {},
   "source": [
    "Extract old and new ID into variable."
   ]
  },
  {
   "cell_type": "code",
   "execution_count": 16,
   "metadata": {
    "collapsed": true
   },
   "outputs": [],
   "source": [
    "new = eng_des['ID'].reset_index()\n",
    "new = new.drop(['index'], axis=1)\n",
    "new = new['ID']\n",
    "old = th_id.reset_index()\n",
    "old = old.drop(['index'], axis=1)\n",
    "old = old['ID']"
   ]
  },
  {
   "cell_type": "markdown",
   "metadata": {},
   "source": [
    "Some post_parent doesn't appear in dictionary. Pick only the one we have in Thai ID."
   ]
  },
  {
   "cell_type": "code",
   "execution_count": 17,
   "metadata": {
    "collapsed": true
   },
   "outputs": [],
   "source": [
    "#reset index\n",
    "image = image.reset_index()\n",
    "image = image.drop(['index'], axis=1)\n",
    "\n",
    "image['number'] = image['post_parent']\n",
    "image = image.set_index('number')\n",
    "image = image.loc[th_id]"
   ]
  },
  {
   "cell_type": "markdown",
   "metadata": {},
   "source": [
    "Check for nan value and drop rows that have nan English ID."
   ]
  },
  {
   "cell_type": "code",
   "execution_count": 18,
   "metadata": {
    "collapsed": true
   },
   "outputs": [],
   "source": [
    "#Check for nan value.\n",
    "image['post_parent'].isnull().sum()\n",
    "#Drop rows that have nan English ID.\n",
    "image = image[np.isfinite(image['post_parent'])]"
   ]
  },
  {
   "cell_type": "markdown",
   "metadata": {},
   "source": [
    "Create a dictionary."
   ]
  },
  {
   "cell_type": "code",
   "execution_count": 19,
   "metadata": {
    "collapsed": true
   },
   "outputs": [],
   "source": [
    "dic = {}\n",
    "for i in range(len(old)):\n",
    "    dic[old[i]] = new[i]"
   ]
  },
  {
   "cell_type": "markdown",
   "metadata": {},
   "source": [
    "Translate old to new \"ID\""
   ]
  },
  {
   "cell_type": "code",
   "execution_count": 20,
   "metadata": {
    "collapsed": true
   },
   "outputs": [],
   "source": [
    "image['post_parent'] = [dic[x] for x in image['post_parent']]"
   ]
  },
  {
   "cell_type": "markdown",
   "metadata": {},
   "source": [
    "Set new ID and index number."
   ]
  },
  {
   "cell_type": "code",
   "execution_count": 21,
   "metadata": {
    "collapsed": true
   },
   "outputs": [],
   "source": [
    "max_id = eng_des['ID'].max()\n",
    "#Create Series of number as a new \"ID\".\n",
    "start = max_id + 1\n",
    "end = start + image.shape[0]\n",
    "number = pd.Series(range(start, end))\n",
    "\n",
    "#Reset eng_des index\n",
    "image = image.reset_index()\n",
    "#Drop old index column.\n",
    "image = image.drop(['number'], axis=1)\n",
    "image['ID'] = number\n",
    "\n",
    "#Create Series od number as a new index.\n",
    "max_index = eng_des.index.values.max()\n",
    "index_start = max_index + 1\n",
    "index_end = index_start + image.shape[0]\n",
    "number = pd.Series(range(index_start, index_end))\n",
    "image['number'] = number\n",
    "image = image.set_index(number)\n",
    "#Drop unused column.\n",
    "image = image.drop(['number'], axis=1)"
   ]
  },
  {
   "cell_type": "markdown",
   "metadata": {},
   "source": [
    "### Concatenate to \"wp_posts\" "
   ]
  },
  {
   "cell_type": "markdown",
   "metadata": {},
   "source": [
    "Concatenate \"wp_posts\" and \"eng_des\" to the old wp_posts."
   ]
  },
  {
   "cell_type": "code",
   "execution_count": 22,
   "metadata": {
    "collapsed": true
   },
   "outputs": [],
   "source": [
    "wp_posts_with_eng = pd.concat([wp_posts, eng_des, image], axis=0)"
   ]
  },
  {
   "cell_type": "markdown",
   "metadata": {},
   "source": [
    "Arrange index."
   ]
  },
  {
   "cell_type": "code",
   "execution_count": 23,
   "metadata": {
    "collapsed": true
   },
   "outputs": [],
   "source": [
    "wp_posts_with_eng = wp_posts_with_eng.sort_values('ID') "
   ]
  },
  {
   "cell_type": "markdown",
   "metadata": {},
   "source": [
    "Export new raw_product and upload to Woocommerce."
   ]
  },
  {
   "cell_type": "code",
   "execution_count": null,
   "metadata": {
    "collapsed": false
   },
   "outputs": [],
   "source": [
    "wp_posts_with_eng.to_csv('product_import_to_woo/wp_posts_with_eng.csv', encoding='utf-8', index=False)"
   ]
  },
  {
   "cell_type": "markdown",
   "metadata": {},
   "source": [
    "# Creating the \"wp_postmeta\""
   ]
  },
  {
   "cell_type": "markdown",
   "metadata": {},
   "source": [
    "Our process here is to create \"wp_postmeta\". \"wp_post_meta\" is a table collecting the detail of each post. In example \"wp_postmeta\" of product stores a SKU, price, weight and other information about product. Woocommerce isn't working properly without \"wp_postmeta\", so after we have already create \"wp_posts\", we have to generate \"wp_postmeta\"."
   ]
  },
  {
   "cell_type": "markdown",
   "metadata": {},
   "source": [
    "We load \"wp_postmeta.csv\" that is the detail of each wp_post ID. We load wp_postmeta into 2 variable. \n",
    "\n",
    "1) \"wp_postmeta\" is use in the end to concatenate with a new English product's \"wp_postmeta\" or \"meta\" variable. \n",
    "\n",
    "2) \"meta\" is a new English product's \"wp_postmeta\""
   ]
  },
  {
   "cell_type": "code",
   "execution_count": 25,
   "metadata": {
    "collapsed": true
   },
   "outputs": [],
   "source": [
    "wp_postmeta = pd.read_csv('sql_prestashop/wp_postmeta.csv', index_col=False)\n",
    "meta = pd.read_csv('sql_prestashop/wp_postmeta.csv', index_col=False)"
   ]
  },
  {
   "cell_type": "markdown",
   "metadata": {},
   "source": [
    "\"meta\" still have other posts. We need to extract only product, so we bring \"meta\" with the same ID as Thai products."
   ]
  },
  {
   "cell_type": "code",
   "execution_count": 26,
   "metadata": {
    "collapsed": false
   },
   "outputs": [],
   "source": [
    "meta['number'] = meta['post_id']\n",
    "meta = meta.set_index('number')\n",
    "meta = meta.loc[th_id]"
   ]
  },
  {
   "cell_type": "markdown",
   "metadata": {},
   "source": [
    "Translate old to new \"ID\"."
   ]
  },
  {
   "cell_type": "code",
   "execution_count": 27,
   "metadata": {
    "collapsed": true
   },
   "outputs": [],
   "source": [
    "meta['post_id'] = [dic[x] for x in meta['post_id']]"
   ]
  },
  {
   "cell_type": "markdown",
   "metadata": {},
   "source": [
    "Set new ID and index number."
   ]
  },
  {
   "cell_type": "code",
   "execution_count": 28,
   "metadata": {
    "collapsed": true
   },
   "outputs": [],
   "source": [
    "max_id = wp_postmeta['meta_id'].max()\n",
    "#Create Series of number as a new \"ID\".\n",
    "start = max_id + 1\n",
    "end = start + meta.shape[0]\n",
    "number = pd.Series(range(start, end))\n",
    "\n",
    "#Reset eng_des index\n",
    "meta = meta.reset_index()\n",
    "#Drop old index column.\n",
    "meta = meta.drop(['number'], axis=1)\n",
    "meta['meta_id'] = number\n",
    "\n",
    "#Set new index\n",
    "#Create Series od number as a new index.\n",
    "max_index = wp_postmeta.index.values.max()\n",
    "index_start = max_index + 1\n",
    "index_end = index_start + meta.shape[0]\n",
    "number = pd.Series(range(index_start, index_end))\n",
    "meta['number'] = number\n",
    "meta = meta.set_index(number)\n",
    "#Drop unused column.\n",
    "meta = meta.drop(['number'], axis=1)"
   ]
  },
  {
   "cell_type": "markdown",
   "metadata": {},
   "source": [
    "Concatenate with the old wp_posts."
   ]
  },
  {
   "cell_type": "code",
   "execution_count": 29,
   "metadata": {
    "collapsed": true
   },
   "outputs": [],
   "source": [
    "wp_postmeta_with_eng = pd.concat([wp_postmeta, meta], axis=0)"
   ]
  },
  {
   "cell_type": "markdown",
   "metadata": {},
   "source": [
    "Arrange index."
   ]
  },
  {
   "cell_type": "code",
   "execution_count": 30,
   "metadata": {
    "collapsed": true
   },
   "outputs": [],
   "source": [
    "wp_postmeta_with_eng = wp_postmeta_with_eng.sort_values('post_id') "
   ]
  },
  {
   "cell_type": "markdown",
   "metadata": {},
   "source": [
    "For a comfortable sorting the product in backend, We change the \"SKU\" into new format."
   ]
  },
  {
   "cell_type": "code",
   "execution_count": 31,
   "metadata": {
    "collapsed": false
   },
   "outputs": [
    {
     "name": "stderr",
     "output_type": "stream",
     "text": [
      "D:\\Anaconda3\\lib\\site-packages\\pandas\\core\\indexing.py:179: SettingWithCopyWarning: \n",
      "A value is trying to be set on a copy of a slice from a DataFrame\n",
      "\n",
      "See the caveats in the documentation: http://pandas.pydata.org/pandas-docs/stable/indexing.html#indexing-view-versus-copy\n",
      "  self._setitem_with_indexer(indexer, value)\n"
     ]
    }
   ],
   "source": [
    "#Change SKU format.\n",
    "for i in range(wp_postmeta_with_eng.shape[0]):\n",
    "    if wp_postmeta_with_eng['meta_key'].iloc[i] == '_sku':\n",
    "        wp_postmeta_with_eng['meta_value'].iloc[i] = 'A' + str(wp_postmeta_with_eng['meta_value'].iloc[i]).zfill(5)\n",
    "        x = wp_postmeta_with_eng['meta_value'].iloc[i]"
   ]
  },
  {
   "cell_type": "markdown",
   "metadata": {},
   "source": [
    "Export to .csv"
   ]
  },
  {
   "cell_type": "code",
   "execution_count": null,
   "metadata": {
    "collapsed": true
   },
   "outputs": [],
   "source": [
    "wp_postmeta_with_eng.to_csv('product_import_to_woo/wp_postmeta_with_eng.csv', encoding='utf-8', index=False)"
   ]
  },
  {
   "cell_type": "markdown",
   "metadata": {},
   "source": [
    "# Creating the \"wp_icl_translations\""
   ]
  },
  {
   "cell_type": "markdown",
   "metadata": {},
   "source": [
    "Loading the \"wp_icl_translations\". Use wp_icl_translations to link Thai & Eng product description."
   ]
  },
  {
   "cell_type": "code",
   "execution_count": 32,
   "metadata": {
    "collapsed": true
   },
   "outputs": [],
   "source": [
    "translations = pd.read_csv('sql_prestashop/wp_icl_translations.csv', index_col=False)"
   ]
  },
  {
   "cell_type": "markdown",
   "metadata": {},
   "source": [
    "Merging Thai & English Description to wp_icl_translations to make sure we match the correct ID."
   ]
  },
  {
   "cell_type": "code",
   "execution_count": 33,
   "metadata": {
    "collapsed": true
   },
   "outputs": [],
   "source": [
    "thai_des = wp_posts[wp_posts['post_type'] == 'product']\n",
    "thai_des = thai_des[['ID', 'post_title']]\n",
    "eng_des = eng_des[['ID', 'post_title']]\n",
    "tr = translations[translations['element_type'] == 'post_product']"
   ]
  },
  {
   "cell_type": "markdown",
   "metadata": {},
   "source": [
    "First, we merge Thai product to \"wp_icl_translations\"."
   ]
  },
  {
   "cell_type": "code",
   "execution_count": 36,
   "metadata": {
    "collapsed": true
   },
   "outputs": [],
   "source": [
    "#Change column name for merging dataframe.\n",
    "tr = tr.rename(columns = {'element_id':'ID'})\n",
    "\n",
    "#Merge thai_des first. The result dataframe will have new \"post_title\" column.\n",
    "tr = pd.merge(tr, thai_des, how='left', on='ID')"
   ]
  },
  {
   "cell_type": "markdown",
   "metadata": {},
   "source": [
    "Then we merge it  with English product description by \"post_title\". The reason we use \"post_title\" as a key because Thai and English product don't share the same ID."
   ]
  },
  {
   "cell_type": "code",
   "execution_count": 37,
   "metadata": {
    "collapsed": false
   },
   "outputs": [],
   "source": [
    "#Merge English description. Now we use \"post_title\" as a key.\n",
    "tr = pd.merge(tr, eng_des, how='left', on='post_title')\n",
    "\n",
    "#Rename ID_x and ID_y for comfortable use.\n",
    "tr = tr.rename(columns = {'ID_x':'ID_th', 'ID_y':'ID_en'})"
   ]
  },
  {
   "cell_type": "markdown",
   "metadata": {},
   "source": [
    "Drop rows that English ID has a nan value."
   ]
  },
  {
   "cell_type": "code",
   "execution_count": 38,
   "metadata": {
    "collapsed": false
   },
   "outputs": [],
   "source": [
    "tr = tr[np.isfinite(tr['ID_en'])]"
   ]
  },
  {
   "cell_type": "markdown",
   "metadata": {},
   "source": [
    "Using the value_counts() to find duplicate values. If there are duplicate values, we drop it."
   ]
  },
  {
   "cell_type": "code",
   "execution_count": 39,
   "metadata": {
    "collapsed": true
   },
   "outputs": [],
   "source": [
    "#Check for duplicate entry.\n",
    "count = tr['ID_en'].value_counts()\n",
    "#Drop duplicate name of product.\n",
    "tr = tr.drop_duplicates(subset='ID_en')"
   ]
  },
  {
   "cell_type": "markdown",
   "metadata": {},
   "source": [
    "Create a series with the size of English products."
   ]
  },
  {
   "cell_type": "code",
   "execution_count": 40,
   "metadata": {
    "collapsed": true
   },
   "outputs": [],
   "source": [
    "#Find max \"ID\" of wp_icl_translations. Use max ID + 1 to be the starting ID of English description.\n",
    "max_id = translations['translation_id'].max()\n",
    "#Create Series of number as a new \"ID\".\n",
    "start = max_id + 1\n",
    "end = start + tr.shape[0]\n",
    "number = pd.Series(range(start, end))"
   ]
  },
  {
   "cell_type": "markdown",
   "metadata": {},
   "source": [
    "Creating a new dataframe in the format of wp_icl_translations."
   ]
  },
  {
   "cell_type": "code",
   "execution_count": 41,
   "metadata": {
    "collapsed": true
   },
   "outputs": [],
   "source": [
    "#Create new dataframe in wp_icl_translations form. Then collect the processed\n",
    "#English id's wp_icl_translations data.\n",
    "dataframe = pd.DataFrame({\n",
    "'translation_id': number,\n",
    "'element_type' : 'post_product',\n",
    "'element_id': tr['ID_en'].values,\n",
    "'trid': tr['trid'].values,\n",
    "'language_code': 'en',\n",
    "'source_language_code': 'th'}, \n",
    "columns=['translation_id', 'element_type', 'element_id', 'trid', 'language_code', 'source_language_code'])"
   ]
  },
  {
   "cell_type": "markdown",
   "metadata": {},
   "source": [
    "Set new index for dataframe."
   ]
  },
  {
   "cell_type": "code",
   "execution_count": 42,
   "metadata": {
    "collapsed": true
   },
   "outputs": [],
   "source": [
    "#Set new index, so it will continue from the last index in wp_icl_translations.\n",
    "start = translations.shape[0]\n",
    "end = start + dataframe.shape[0]\n",
    "number = pd.Series(range(start,end))\n",
    "dataframe = dataframe.set_index(number)"
   ]
  },
  {
   "cell_type": "markdown",
   "metadata": {},
   "source": [
    "Concatenating dataframe to \"translations\" and name it as wp_icl_translations"
   ]
  },
  {
   "cell_type": "code",
   "execution_count": 43,
   "metadata": {
    "collapsed": true
   },
   "outputs": [],
   "source": [
    "wp_icl_translations = pd.concat([translations, dataframe])"
   ]
  },
  {
   "cell_type": "markdown",
   "metadata": {},
   "source": [
    "\"source_language_code\" must fill with \"NULL\" in order to make Woocommerce working properly."
   ]
  },
  {
   "cell_type": "code",
   "execution_count": 44,
   "metadata": {
    "collapsed": true
   },
   "outputs": [],
   "source": [
    "wp_icl_translations[\"source_language_code\"] = wp_icl_translations[\"source_language_code\"].fillna('NULL')"
   ]
  },
  {
   "cell_type": "markdown",
   "metadata": {},
   "source": [
    "Export to .csv"
   ]
  },
  {
   "cell_type": "code",
   "execution_count": null,
   "metadata": {
    "collapsed": false
   },
   "outputs": [],
   "source": [
    "wp_icl_translations.to_csv('product_import_to_woo/wp_icl_translations_to_import.csv', encoding='utf-8', index=False)"
   ]
  }
 ],
 "metadata": {
  "kernelspec": {
   "display_name": "Python [conda root]",
   "language": "python",
   "name": "conda-root-py"
  },
  "language_info": {
   "codemirror_mode": {
    "name": "ipython",
    "version": 3
   },
   "file_extension": ".py",
   "mimetype": "text/x-python",
   "name": "python",
   "nbconvert_exporter": "python",
   "pygments_lexer": "ipython3",
   "version": "3.5.2"
  }
 },
 "nbformat": 4,
 "nbformat_minor": 1
}
