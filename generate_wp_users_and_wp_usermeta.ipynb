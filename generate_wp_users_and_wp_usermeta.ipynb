{
 "cells": [
  {
   "cell_type": "markdown",
   "metadata": {},
   "source": [
    "# Customer migration from Prestashop to Woocommerce part 2 : Generate wp_users and wp_usermeta"
   ]
  },
  {
   "cell_type": "code",
   "execution_count": null,
   "metadata": {
    "collapsed": true
   },
   "outputs": [],
   "source": [
    "import pandas as pd\n",
    "import numpy as np"
   ]
  },
  {
   "cell_type": "markdown",
   "metadata": {},
   "source": [
    "Load information we save from part 1 and drop unused column."
   ]
  },
  {
   "cell_type": "markdown",
   "metadata": {},
   "source": [
    "# Create wp_usermeta"
   ]
  },
  {
   "cell_type": "code",
   "execution_count": null,
   "metadata": {
    "collapsed": false
   },
   "outputs": [],
   "source": [
    "#Load a raw information\n",
    "raw_information = pd.read_csv('sql_prestashop/raw_information.csv', index_col='id_customer')\n",
    "raw_information = raw_information.drop(['Unnamed: 0'], axis=1)"
   ]
  },
  {
   "cell_type": "markdown",
   "metadata": {},
   "source": [
    "Important thing to note here. We must download wp_users and wp_usermeta to our computer first and use them to collect data. If you attemp to import wp_users without backup, the admin username and password will change. You can't login into Woocommerce again.\n",
    "\n",
    "When we work on our Woocommerce store, there is only admin. We download the wp_usermeta and change its name to 'admin_detail'. The follow customer (begin at ID = 2) will be store in form."
   ]
  },
  {
   "cell_type": "code",
   "execution_count": null,
   "metadata": {
    "collapsed": true
   },
   "outputs": [],
   "source": [
    "#When installing woocommerce admin username and password maybe change.\n",
    "#We separate usermeta into 2 files \n",
    "#1) admin_detail: the information of admin in new website only ID 1\n",
    "#2) form: the customer detail begin at ID 2\n",
    "\n",
    "#Load admin_detail\n",
    "admin_detail = pd.read_csv('sql_prestashop/admin_detail.csv', header=None, index_col=0)\n",
    "admin_detail = admin_detail.rename(columns = {1:'id_customer'})"
   ]
  },
  {
   "cell_type": "markdown",
   "metadata": {},
   "source": [
    "Load usermeta form. We create this form by create one dummy customer. Fill the important information. Then download the new wp_usermeta. We delete the information of admin, using only customer data. This form will use to fill all customer detail."
   ]
  },
  {
   "cell_type": "code",
   "execution_count": null,
   "metadata": {
    "collapsed": true
   },
   "outputs": [],
   "source": [
    "#Load usermeta form\n",
    "form = pd.read_csv('sql_prestashop/usermeta_form_short.csv', header=None, index_col=0)\n",
    "form = form.rename(columns = {1:'id_customer'})\n",
    "#reset all value to nan\n",
    "form[3] = np.nan"
   ]
  },
  {
   "cell_type": "markdown",
   "metadata": {},
   "source": [
    "We run the for loop to fill in our usermeta form. The wp_usermeta is the detail of each user collect in row. We must load usermeta form we create, run current user id and then fill each row of the form with our information from information we have gathered in part 1.\n",
    "\n",
    "The important information here is:\n",
    "\n",
    "1) firstname\n",
    "\n",
    "2) lastname\n",
    "\n",
    "3) address1\n",
    "\n",
    "4) city\n",
    "\n",
    "5) postcode\n",
    "\n",
    "6) country\n",
    "\n",
    "7) email\n",
    "\n",
    "8) phone_mobile\n",
    "\n",
    "9) customer role (the 3 groups 18+, vendors and customers we created in part 1)\n",
    "\n",
    "3) - 8) are filling in billing address. Woocommerce has a function to select shipping address to be the same as billing address, so we choose to fill only one. That is billing address.\n",
    "\n",
    "Then in the end of each for loop, we append our edited wp_usermeta form to admin_detail."
   ]
  },
  {
   "cell_type": "code",
   "execution_count": 5,
   "metadata": {
    "collapsed": false
   },
   "outputs": [],
   "source": [
    "#Create new usermeta using \"information\" to fill in\n",
    "for x in raw_information.index[1:]:\n",
    "    #Fill lastest id in form\n",
    "    form['id_customer'] = x\n",
    "    #Start to fill in\n",
    "    #form.iloc[0,2] = np.nan\n",
    "    form.iloc[0,2] = raw_information.loc[x,'firstname']  \n",
    "    form.iloc[1,2] = raw_information.loc[x,'lastname']\n",
    "    #form.iloc[10,2] = a:1:{s:13:\"administrator\";b:1;}\n",
    "    form.iloc[3,2] = 0\n",
    "    form.iloc[4,2] = raw_information.loc[x,'firstname']\n",
    "    form.iloc[5,2] = raw_information.loc[x,'lastname']\n",
    "    form.iloc[6,2] = raw_information.loc[x,'address1']\n",
    "    form.iloc[7,2] = raw_information.loc[x,'city']\n",
    "    form.iloc[9,2] = raw_information.loc[x,'postcode']\n",
    "    form.iloc[10,2] = raw_information.loc[x,'country']\n",
    "    form.iloc[11,2] = raw_information.loc[x,'email']\n",
    "    form.iloc[12,2] = raw_information.loc[x,'phone_mobile']\n",
    "    \n",
    "    #Create customer role\n",
    "    if raw_information.loc[x,'id_group'] == 6:\n",
    "        form.iloc[2,2] = 'a:1:{s:6:\"vendor\";b:1;}'\n",
    "    if raw_information.loc[x,'id_group'] == 4:\n",
    "        form.iloc[2,2] = 'a:1:{s:10:\"subscriber\";b:1;}'\n",
    "    if raw_information.loc[x,'id_group'] == 3:\n",
    "        form.iloc[2,2] = 'a:1:{s:8:\"customer\";b:1;}'\n",
    "    \n",
    "    admin_detail = admin_detail.append(form)"
   ]
  },
  {
   "cell_type": "markdown",
   "metadata": {},
   "source": [
    "The index numbers are not continuous. We arrange them."
   ]
  },
  {
   "cell_type": "code",
   "execution_count": 6,
   "metadata": {
    "collapsed": true
   },
   "outputs": [],
   "source": [
    "#The index of result array is not continuous\n",
    "admin_detail = admin_detail.set_index(np.arange(1,admin_detail.shape[0]+1))"
   ]
  },
  {
   "cell_type": "markdown",
   "metadata": {},
   "source": [
    "Save the new wp_meta to .csv file. Ready to import."
   ]
  },
  {
   "cell_type": "code",
   "execution_count": null,
   "metadata": {
    "collapsed": false
   },
   "outputs": [],
   "source": [
    "#save new wp_usermeta to .csv\n",
    "admin_detail.to_csv('customer_import_to_woo/raw_wp_usermeta.csv', header=False, encoding='utf-8')"
   ]
  },
  {
   "cell_type": "markdown",
   "metadata": {},
   "source": [
    "# Create wp_users"
   ]
  },
  {
   "cell_type": "markdown",
   "metadata": {
    "collapsed": true
   },
   "source": [
    "Next we create the wp_users file. We get into the database and download wp_users which has only admin data. Rename as \"wp_users_form\"."
   ]
  },
  {
   "cell_type": "code",
   "execution_count": 7,
   "metadata": {
    "collapsed": false
   },
   "outputs": [],
   "source": [
    "admin_from_wp_users = pd.read_csv('sql_prestashop/wp_users_form.csv', header=None)\n",
    "admin_from_wp_users = admin_from_wp_users.rename(columns = {0:'ID', 1:'user_login', 4:'user_email', 9:'display_name'})"
   ]
  },
  {
   "cell_type": "markdown",
   "metadata": {},
   "source": [
    "Create empty dataframe which has index equal to \"raw_information\" and 10 columns. Set all element to nan value. Then rename the coloumn to match the wp_users file of Woocommerce."
   ]
  },
  {
   "cell_type": "code",
   "execution_count": 8,
   "metadata": {
    "collapsed": true
   },
   "outputs": [],
   "source": [
    "#Create dataframe for arrange \"information\" into wp_users format\n",
    "information_to_wp_users = pd.DataFrame(np.empty((raw_information.shape[0],10)))\n",
    "information_to_wp_users[:] = np.NAN\n",
    "information_to_wp_users = information_to_wp_users.rename(columns = {0:'ID', 1:'user_login', 4:'user_email', 9:'display_name'})"
   ]
  },
  {
   "cell_type": "markdown",
   "metadata": {},
   "source": [
    "The raw information index is already a \"id_customer\". We set \"raw_information\" index to be index of our new create dataframe."
   ]
  },
  {
   "cell_type": "code",
   "execution_count": 9,
   "metadata": {
    "collapsed": true
   },
   "outputs": [],
   "source": [
    "#Set index equal to the index from \"raw_information\". Protect miss matching\n",
    "#the data with wrong ID\n",
    "information_to_wp_users.index = raw_information.index"
   ]
  },
  {
   "cell_type": "markdown",
   "metadata": {},
   "source": [
    "Fill the important data of user. Then set \"ID\" column equal to the index (because both are the \"id_customer\")."
   ]
  },
  {
   "cell_type": "code",
   "execution_count": 10,
   "metadata": {
    "collapsed": true
   },
   "outputs": [],
   "source": [
    "#Filling the data\n",
    "information_to_wp_users['user_login'] = raw_information['email']\n",
    "information_to_wp_users['user_email'] = raw_information['email']\n",
    "information_to_wp_users['display_name'] = raw_information['firstname']\n",
    "#Extract 'ID' to be column\n",
    "information_to_wp_users['ID'] = raw_information.index.values"
   ]
  },
  {
   "cell_type": "markdown",
   "metadata": {},
   "source": [
    "Fill the first index by the data of admin in wp_users."
   ]
  },
  {
   "cell_type": "code",
   "execution_count": 11,
   "metadata": {
    "collapsed": true
   },
   "outputs": [],
   "source": [
    "#Adding the admin data\n",
    "information_to_wp_users.loc[0] = admin_from_wp_users.loc[0]"
   ]
  },
  {
   "cell_type": "markdown",
   "metadata": {},
   "source": [
    "Save \"information_to_wp_users\" as .csv file."
   ]
  },
  {
   "cell_type": "code",
   "execution_count": null,
   "metadata": {
    "collapsed": true
   },
   "outputs": [],
   "source": [
    "#save new wp_users to .csv\n",
    "information_to_wp_users.to_csv('customer_import_to_woo/raw_wp_users.csv', header=False, index=False, encoding='utf-8')"
   ]
  },
  {
   "cell_type": "markdown",
   "metadata": {},
   "source": [
    "# Last step, import via sql"
   ]
  },
  {
   "cell_type": "markdown",
   "metadata": {},
   "source": [
    "Finally, we have 2 new files \"raw_wp_usermeta.csv\" and \"raw_wp_users.csv\". We import \"raw_wp_users.csv\" replace \"wp_users\" on database. This will cause no problem. Then we import \"raw_wp_usermeta.csv\" replace \"wp_usermeta\", you may found an alert that the upload has timeout because this file is too big. Upload again with the same file 3-4 times may solve this problem. "
   ]
  }
 ],
 "metadata": {
  "anaconda-cloud": {},
  "kernelspec": {
   "display_name": "Python [conda root]",
   "language": "python",
   "name": "conda-root-py"
  },
  "language_info": {
   "codemirror_mode": {
    "name": "ipython",
    "version": 3
   },
   "file_extension": ".py",
   "mimetype": "text/x-python",
   "name": "python",
   "nbconvert_exporter": "python",
   "pygments_lexer": "ipython3",
   "version": "3.5.2"
  }
 },
 "nbformat": 4,
 "nbformat_minor": 1
}
